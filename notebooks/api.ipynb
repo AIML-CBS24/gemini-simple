{
 "cells": [
  {
   "cell_type": "code",
   "execution_count": 1,
   "metadata": {},
   "outputs": [],
   "source": [
    "import vertexai\n",
    "from google.oauth2.service_account import Credentials\n",
    "from vertexai.generative_models import GenerativeModel"
   ]
  },
  {
   "cell_type": "code",
   "execution_count": 2,
   "metadata": {},
   "outputs": [],
   "source": [
    "class GModel():\n",
    "\n",
    "    def __init__(\n",
    "        self,\n",
    "        project : str,\n",
    "        location : str = \"us-central1\",\n",
    "        credentials_path : str  = \"service_acc_key.json\", # json file\n",
    "        model_name : str = \"gemini-pro\"\n",
    "    ) -> None:\n",
    "\n",
    "        creds : Credentials = Credentials.from_service_account_file(credentials_path)\n",
    "        vertexai.init(\n",
    "            project=project,\n",
    "            location=location,\n",
    "            credentials=creds\n",
    "        )\n",
    "        self.model = GenerativeModel(model_name)\n",
    "\n",
    "    def generate_text(self, contents: str | list[str], **kwargs) -> dict:\n",
    "        response = self.model.generate_content(contents,**kwargs)\n",
    "        return response.candidates[0].content.parts[0].text\n",
    "    \n",
    "    def generate(self, contents: str | list[str], **kwargs) -> dict:\n",
    "        return self.model.generate_content(contents,**kwargs)\n",
    "        "
   ]
  },
  {
   "cell_type": "code",
   "execution_count": 3,
   "metadata": {},
   "outputs": [],
   "source": [
    "model = GModel(\n",
    "    project=\"local-vehicle-415415\",\n",
    "    location=\"us-central1\",\n",
    "    credentials_path=\"service_acc_key.json\"\n",
    ")"
   ]
  },
  {
   "cell_type": "code",
   "execution_count": 6,
   "metadata": {},
   "outputs": [],
   "source": [
    "response = model.generate_text(\"What is the meaning of life\")"
   ]
  },
  {
   "cell_type": "code",
   "execution_count": 7,
   "metadata": {},
   "outputs": [
    {
     "data": {
      "text/plain": [
       "\"The meaning of life is a deep philosophical question that has been pondered by humans for centuries. There is no one definitive answer, as the meaning of life is likely to be unique to each individual. However, there are some common themes that emerge when people discuss the meaning of life, including:\\n\\n* **Purpose:** Many people believe that the meaning of life is to find a purpose or goal that gives them direction and motivation. This purpose can be anything from raising a family to starting a business to making a positive impact on the world.\\n* **Happiness:** Others believe that the meaning of life is to be happy. This can mean different things to different people, but it often involves spending time with loved ones, pursuing hobbies, and living a life that is true to oneself.\\n* **Connection:** Some people believe that the meaning of life is to connect with others. This can involve building relationships, helping others, or simply being present in the moment and appreciating the connections we have.\\n* **Growth:** Many people believe that the meaning of life is to grow and evolve as a person. This can involve learning new things, taking on new challenges, and becoming a more compassionate and understanding person.\\n* **Legacy:** Some people believe that the meaning of life is to leave a legacy behind. This can involve raising a family, making a contribution to society, or creating something that will have a lasting impact on the world.\\n\\nUltimately, the meaning of life is a personal question that each individual must answer for themselves. However, the ideas discussed above can provide a starting point for reflection and exploration.\\n\\nIn addition to the ideas discussed above, some other common themes that emerge when people discuss the meaning of life include:\\n\\n* **Service:** Many people believe that the meaning of life is to serve others. This can involve volunteering, working in a helping profession, or simply being kind and compassionate to those around us.\\n* **Creativity:** Some people believe that the meaning of life is to express themselves creatively. This can involve writing, painting, music, or any other form of creative expression.\\n* **Spiritual fulfillment:** Some people believe that the meaning of life is to find spiritual fulfillment. This can involve connecting with a higher power, practicing meditation or yoga, or simply living a life that is true to one's values.\\n\\nAgain, the meaning of life is a personal question that each individual must answer for themselves. However, the ideas discussed above can provide a starting point for reflection and exploration.\""
      ]
     },
     "execution_count": 7,
     "metadata": {},
     "output_type": "execute_result"
    }
   ],
   "source": [
    "response"
   ]
  },
  {
   "cell_type": "code",
   "execution_count": 8,
   "metadata": {},
   "outputs": [
    {
     "data": {
      "text/plain": [
       "candidates {\n",
       "  content {\n",
       "    role: \"model\"\n",
       "    parts {\n",
       "      text: \"Ja, jeg kan oversætte til dansk. Hvad vil du have oversat?\"\n",
       "    }\n",
       "  }\n",
       "  finish_reason: STOP\n",
       "  safety_ratings {\n",
       "    category: HARM_CATEGORY_HATE_SPEECH\n",
       "    probability: NEGLIGIBLE\n",
       "  }\n",
       "  safety_ratings {\n",
       "    category: HARM_CATEGORY_DANGEROUS_CONTENT\n",
       "    probability: NEGLIGIBLE\n",
       "  }\n",
       "  safety_ratings {\n",
       "    category: HARM_CATEGORY_HARASSMENT\n",
       "    probability: NEGLIGIBLE\n",
       "  }\n",
       "  safety_ratings {\n",
       "    category: HARM_CATEGORY_SEXUALLY_EXPLICIT\n",
       "    probability: NEGLIGIBLE\n",
       "  }\n",
       "}\n",
       "usage_metadata {\n",
       "  prompt_token_count: 8\n",
       "  candidates_token_count: 16\n",
       "  total_token_count: 24\n",
       "}"
      ]
     },
     "execution_count": 8,
     "metadata": {},
     "output_type": "execute_result"
    }
   ],
   "source": [
    "model.generate(\"Kan du også oversætte til dansk?\")"
   ]
  }
 ],
 "metadata": {
  "kernelspec": {
   "display_name": ".venv",
   "language": "python",
   "name": "python3"
  },
  "language_info": {
   "codemirror_mode": {
    "name": "ipython",
    "version": 3
   },
   "file_extension": ".py",
   "mimetype": "text/x-python",
   "name": "python",
   "nbconvert_exporter": "python",
   "pygments_lexer": "ipython3",
   "version": "3.10.0"
  }
 },
 "nbformat": 4,
 "nbformat_minor": 2
}
