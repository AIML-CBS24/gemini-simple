{
 "cells": [
  {
   "cell_type": "markdown",
   "metadata": {},
   "source": [
    "### Prompt Engineering with Gemini Pro "
   ]
  },
  {
   "cell_type": "code",
   "execution_count": null,
   "metadata": {},
   "outputs": [],
   "source": [
    "import vertexai\n",
    "from google.oauth2.service_account import Credentials\n",
    "from vertexai.generative_models import GenerativeModel"
   ]
  },
  {
   "cell_type": "code",
   "execution_count": null,
   "metadata": {},
   "outputs": [],
   "source": [
    "class GModel():\n",
    "\n",
    "    \"\"\" This class is a wrapper around the Vertex AI Generative Model API.\n",
    "    It provides a simple interface to generate text using the model. \"\"\"\n",
    "\n",
    "    def __init__(\n",
    "        self,\n",
    "        project : str,\n",
    "        location : str = \"us-central1\",\n",
    "        credentials_path : str  = \"service_acc_key.json\", # json file\n",
    "        model_name : str = \"gemini-pro\"\n",
    "    ) -> None:\n",
    "\n",
    "        creds : Credentials = Credentials.from_service_account_file(credentials_path)\n",
    "        vertexai.init(\n",
    "            project=project,\n",
    "            location=location,\n",
    "            credentials=creds\n",
    "        )\n",
    "        self.model = GenerativeModel(model_name)\n",
    "\n",
    "    def generate_text(self, contents: str | list[str], **kwargs) -> dict:\n",
    "        \"\"\" This method generates text using the model.\"\"\"\n",
    "        response = self.model.generate_content(contents,**kwargs)\n",
    "        return response.candidates[0].content.parts[0].text\n",
    "    \n",
    "    def generate(self, contents: str | list[str], **kwargs) -> dict:\n",
    "        \"\"\" This method generates all sorts of contents using the model.\"\"\"\n",
    "        return self.model.generate_content(contents,**kwargs)\n",
    "        "
   ]
  },
  {
   "cell_type": "markdown",
   "metadata": {},
   "source": [
    "### Set up your GModel\n",
    "\n",
    "Note: Please see the README for instructions on how to get the service accounts credentials for the Gemini Pro API."
   ]
  },
  {
   "cell_type": "code",
   "execution_count": null,
   "metadata": {},
   "outputs": [],
   "source": [
    "model = GModel(\n",
    "    project=\"local-vehicle-415415\", # replace with your project id\n",
    "    location=\"us-central1\", # keep this as is\n",
    "    credentials_path=\"service_acc_key.json\" # replace with your service account key file\n",
    ")"
   ]
  },
  {
   "cell_type": "markdown",
   "metadata": {},
   "source": [
    "Testing that it works"
   ]
  },
  {
   "cell_type": "code",
   "execution_count": null,
   "metadata": {},
   "outputs": [],
   "source": [
    "response = model.generate_text(\"What is the meaning of life\")"
   ]
  },
  {
   "cell_type": "code",
   "execution_count": null,
   "metadata": {},
   "outputs": [],
   "source": [
    "print(response)"
   ]
  },
  {
   "cell_type": "markdown",
   "metadata": {},
   "source": [
    "Testing that it works with the `generate` method. Should return a dictionary with a bunch of useful information, including the response.\n",
    "\n",
    "Tip: You can access the text of the response with\n",
    "```python\n",
    "output = response.candidates[0].content.parts[0].text\n",
    "```\n"
   ]
  },
  {
   "cell_type": "code",
   "execution_count": null,
   "metadata": {},
   "outputs": [],
   "source": [
    "response = model.generate(\"Kan du også oversætte til dansk?\")\n",
    "response"
   ]
  }
 ],
 "metadata": {
  "kernelspec": {
   "display_name": ".venv",
   "language": "python",
   "name": "python3"
  },
  "language_info": {
   "codemirror_mode": {
    "name": "ipython",
    "version": 3
   },
   "file_extension": ".py",
   "mimetype": "text/x-python",
   "name": "python",
   "nbconvert_exporter": "python",
   "pygments_lexer": "ipython3",
   "version": "3.12.2"
  }
 },
 "nbformat": 4,
 "nbformat_minor": 2
}
