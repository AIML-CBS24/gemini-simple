{
 "cells": [
  {
   "cell_type": "markdown",
   "metadata": {},
   "source": [
    "### Prompt Engineering with Gemini Pro "
   ]
  },
  {
   "cell_type": "code",
   "execution_count": 2,
   "metadata": {},
   "outputs": [],
   "source": [
    "import vertexai\n",
    "from google.oauth2.service_account import Credentials\n",
    "from vertexai.generative_models import GenerativeModel"
   ]
  },
  {
   "cell_type": "code",
   "execution_count": 3,
   "metadata": {},
   "outputs": [],
   "source": [
    "class GModel():\n",
    "\n",
    "    \"\"\" This class is a wrapper around the Vertex AI Generative Model API.\n",
    "    It provides a simple interface to generate text using the model. \"\"\"\n",
    "\n",
    "    def __init__(\n",
    "        self,\n",
    "        project : str,\n",
    "        location : str = \"us-central1\",\n",
    "        credentials_path : str  = \"service_acc_key.json\", # json file\n",
    "        model_name : str = \"gemini-pro\"\n",
    "    ) -> None:\n",
    "\n",
    "        creds : Credentials = Credentials.from_service_account_file(credentials_path)\n",
    "        vertexai.init(\n",
    "            project=project,\n",
    "            location=location,\n",
    "            credentials=creds\n",
    "        )\n",
    "        self.model = GenerativeModel(model_name)\n",
    "\n",
    "    def generate_text(self, contents: str | list[str], **kwargs) -> dict:\n",
    "        \"\"\" This method generates text using the model.\"\"\"\n",
    "        response = self.model.generate_content(contents,**kwargs)\n",
    "        return response.candidates[0].content.parts[0].text\n",
    "    \n",
    "    def generate(self, contents: str | list[str], **kwargs) -> dict:\n",
    "        \"\"\" This method generates all sorts of contents using the model.\"\"\"\n",
    "        return self.model.generate_content(contents,**kwargs)\n",
    "        "
   ]
  },
  {
   "cell_type": "markdown",
   "metadata": {},
   "source": [
    "### Set up your GModel\n",
    "\n",
    "Note: Please see the README for instructions on how to get the service accounts credentials for the Gemini Pro API."
   ]
  },
  {
   "cell_type": "code",
   "execution_count": 4,
   "metadata": {},
   "outputs": [],
   "source": [
    "model = GModel(\n",
    "    project=\"local-vehicle-415415\", # replace with your project id\n",
    "    location=\"us-central1\", # keep this as is\n",
    "    credentials_path=\"service_acc_key.json\" # replace with your service account key file\n",
    ")"
   ]
  },
  {
   "cell_type": "markdown",
   "metadata": {},
   "source": [
    "Testing that it works"
   ]
  },
  {
   "cell_type": "code",
   "execution_count": 5,
   "metadata": {},
   "outputs": [],
   "source": [
    "response = model.generate_text(\"What is the meaning of life\")"
   ]
  },
  {
   "cell_type": "code",
   "execution_count": 7,
   "metadata": {},
   "outputs": [
    {
     "name": "stdout",
     "output_type": "stream",
     "text": [
      "**Philosophical Perspectives**\n",
      "\n",
      "* **Existentialism:** The meaning of life is not inherent, but rather individually created through choices, values, and actions.\n",
      "* **Hedonism:** Life's purpose is to maximize pleasure and avoid pain.\n",
      "* **Eudaimonia:** True meaning lies in living a virtuous and fulfilling life.\n",
      "* **Utilitarianism:** The best life is one that promotes the greatest happiness for the greatest number.\n",
      "* **Nihilism:** Life has no intrinsic meaning or purpose.\n",
      "\n",
      "**Religious Perspectives**\n",
      "\n",
      "* **Creationism:** Life is given meaning by God as a gift or test.\n",
      "* **Karma and Rebirth:** Life is a cycle of actions (karma) and consequences, leading to spiritual growth and enlightenment.\n",
      "* **Salvation:** The goal of life is to achieve salvation or liberation from suffering.\n",
      "\n",
      "**Scientific Perspectives**\n",
      "\n",
      "* **Evolutionary Biology:** Life's purpose is to pass on genes and reproduce.\n",
      "* **Neurobiology:** The pursuit of meaning is a product of cognitive processes in the brain.\n",
      "\n",
      "**Other Perspectives**\n",
      "\n",
      "* **Purpose-Driven Life:** Meaning is found in serving a higher purpose or making a difference.\n",
      "* **Authenticity:** Living a life true to oneself and one's values.\n",
      "* **Experientialism:** The meaning of life lies in the experiences we have.\n",
      "* **Adventure:** Life is a journey to be embraced and explored for its own sake.\n",
      "* **Legacy:** Creating a lasting impact on the world through contributions and relationships.\n",
      "\n",
      "**Personal Perspectives**\n",
      "\n",
      "Ultimately, the meaning of life is a highly personal and subjective matter. It can be found in:\n",
      "\n",
      "* Relationships\n",
      "* Work or hobbies\n",
      "* Learning and growth\n",
      "* Self-expression\n",
      "* Service to others\n",
      "* A sense of belonging\n",
      "* Connection to nature or a higher power\n",
      "* Fulfillment and happiness\n",
      "\n",
      "It is important to note that the meaning of life can evolve over time and may vary depending on individual circumstances, values, and beliefs.\n"
     ]
    }
   ],
   "source": [
    "print(response)"
   ]
  },
  {
   "cell_type": "markdown",
   "metadata": {},
   "source": [
    "Testing that it works with the `generate` method. Should return a dictionary with a bunch of useful information, including the response.\n",
    "\n",
    "Tip: You can access the text of the response with\n",
    "```python\n",
    "output = response.candidates[0].content.parts[0].text\n",
    "```\n"
   ]
  },
  {
   "cell_type": "code",
   "execution_count": 8,
   "metadata": {},
   "outputs": [
    {
     "data": {
      "text/plain": [
       "candidates {\n",
       "  content {\n",
       "    role: \"model\"\n",
       "    parts {\n",
       "      text: \"Ja, jeg kan oversætte til dansk. Kan du give mig teksten, du ønsker oversat?\"\n",
       "    }\n",
       "  }\n",
       "  finish_reason: STOP\n",
       "  safety_ratings {\n",
       "    category: HARM_CATEGORY_HATE_SPEECH\n",
       "    probability: NEGLIGIBLE\n",
       "  }\n",
       "  safety_ratings {\n",
       "    category: HARM_CATEGORY_DANGEROUS_CONTENT\n",
       "    probability: NEGLIGIBLE\n",
       "  }\n",
       "  safety_ratings {\n",
       "    category: HARM_CATEGORY_HARASSMENT\n",
       "    probability: NEGLIGIBLE\n",
       "  }\n",
       "  safety_ratings {\n",
       "    category: HARM_CATEGORY_SEXUALLY_EXPLICIT\n",
       "    probability: NEGLIGIBLE\n",
       "  }\n",
       "}\n",
       "usage_metadata {\n",
       "  prompt_token_count: 8\n",
       "  candidates_token_count: 21\n",
       "  total_token_count: 29\n",
       "}"
      ]
     },
     "execution_count": 8,
     "metadata": {},
     "output_type": "execute_result"
    }
   ],
   "source": [
    "response = model.generate(\"Kan du også oversætte til dansk?\")\n",
    "response"
   ]
  },
  {
   "cell_type": "markdown",
   "metadata": {},
   "source": [
    "***\n",
    "***"
   ]
  },
  {
   "cell_type": "markdown",
   "metadata": {},
   "source": []
  }
 ],
 "metadata": {
  "kernelspec": {
   "display_name": ".venv",
   "language": "python",
   "name": "python3"
  },
  "language_info": {
   "codemirror_mode": {
    "name": "ipython",
    "version": 3
   },
   "file_extension": ".py",
   "mimetype": "text/x-python",
   "name": "python",
   "nbconvert_exporter": "python",
   "pygments_lexer": "ipython3",
   "version": "3.12.2"
  }
 },
 "nbformat": 4,
 "nbformat_minor": 2
}
